{
 "cells": [
  {
   "cell_type": "code",
   "execution_count": 1,
   "metadata": {},
   "outputs": [],
   "source": [
    "import pandas as pd\n",
    "import numpy as np\n",
    "import seaborn as sns\n",
    "import matplotlib.pyplot as plt\n",
    "import matplotlib\n",
    "from datetime import datetime"
   ]
  },
  {
   "cell_type": "code",
   "execution_count": 2,
   "metadata": {},
   "outputs": [],
   "source": [
    "from matplotlib import font_manager, rc \n",
    "\n",
    "font_name=font_manager.FontProperties(fname=\"C:/Windows/Fonts/malgun.ttf\").get_name() \n",
    "rc('font', family=font_name) "
   ]
  },
  {
   "cell_type": "code",
   "execution_count": 3,
   "metadata": {},
   "outputs": [
    {
     "data": {
      "text/html": [
       "<div>\n",
       "<style scoped>\n",
       "    .dataframe tbody tr th:only-of-type {\n",
       "        vertical-align: middle;\n",
       "    }\n",
       "\n",
       "    .dataframe tbody tr th {\n",
       "        vertical-align: top;\n",
       "    }\n",
       "\n",
       "    .dataframe thead th {\n",
       "        text-align: right;\n",
       "    }\n",
       "</style>\n",
       "<table border=\"1\" class=\"dataframe\">\n",
       "  <thead>\n",
       "    <tr style=\"text-align: right;\">\n",
       "      <th></th>\n",
       "      <th>Unnamed: 0</th>\n",
       "      <th>Unnamed: 0.1</th>\n",
       "      <th>방송일시</th>\n",
       "      <th>노출(분)</th>\n",
       "      <th>마더코드</th>\n",
       "      <th>상품코드</th>\n",
       "      <th>상품명</th>\n",
       "      <th>상품군</th>\n",
       "      <th>판매단가</th>\n",
       "      <th>취급액</th>\n",
       "      <th>요일</th>\n",
       "      <th>주문량</th>\n",
       "      <th>월</th>\n",
       "      <th>시간대</th>\n",
       "      <th>시청률</th>\n",
       "      <th>날짜</th>\n",
       "      <th>강수량(mm)</th>\n",
       "      <th>공휴일</th>\n",
       "    </tr>\n",
       "  </thead>\n",
       "  <tbody>\n",
       "    <tr>\n",
       "      <th>0</th>\n",
       "      <td>0</td>\n",
       "      <td>0</td>\n",
       "      <td>2019-01-01 06:00:00</td>\n",
       "      <td>20</td>\n",
       "      <td>100346</td>\n",
       "      <td>201072</td>\n",
       "      <td>테이트 남성 셀린니트3종</td>\n",
       "      <td>1</td>\n",
       "      <td>39900</td>\n",
       "      <td>2099000</td>\n",
       "      <td>2</td>\n",
       "      <td>52.606516</td>\n",
       "      <td>1</td>\n",
       "      <td>6</td>\n",
       "      <td>0.0</td>\n",
       "      <td>1</td>\n",
       "      <td>0.0</td>\n",
       "      <td>1</td>\n",
       "    </tr>\n",
       "    <tr>\n",
       "      <th>1</th>\n",
       "      <td>1</td>\n",
       "      <td>1</td>\n",
       "      <td>2019-01-01 06:00:00</td>\n",
       "      <td>20</td>\n",
       "      <td>100346</td>\n",
       "      <td>201079</td>\n",
       "      <td>테이트 여성 셀린니트3종</td>\n",
       "      <td>1</td>\n",
       "      <td>39900</td>\n",
       "      <td>4371000</td>\n",
       "      <td>2</td>\n",
       "      <td>109.548872</td>\n",
       "      <td>1</td>\n",
       "      <td>6</td>\n",
       "      <td>0.0</td>\n",
       "      <td>1</td>\n",
       "      <td>0.0</td>\n",
       "      <td>1</td>\n",
       "    </tr>\n",
       "    <tr>\n",
       "      <th>2</th>\n",
       "      <td>2</td>\n",
       "      <td>2</td>\n",
       "      <td>2019-01-01 06:20:00</td>\n",
       "      <td>20</td>\n",
       "      <td>100346</td>\n",
       "      <td>201072</td>\n",
       "      <td>테이트 남성 셀린니트3종</td>\n",
       "      <td>1</td>\n",
       "      <td>39900</td>\n",
       "      <td>3262000</td>\n",
       "      <td>2</td>\n",
       "      <td>81.754386</td>\n",
       "      <td>1</td>\n",
       "      <td>6</td>\n",
       "      <td>0.0</td>\n",
       "      <td>1</td>\n",
       "      <td>0.0</td>\n",
       "      <td>1</td>\n",
       "    </tr>\n",
       "    <tr>\n",
       "      <th>3</th>\n",
       "      <td>3</td>\n",
       "      <td>3</td>\n",
       "      <td>2019-01-01 06:20:00</td>\n",
       "      <td>20</td>\n",
       "      <td>100346</td>\n",
       "      <td>201079</td>\n",
       "      <td>테이트 여성 셀린니트3종</td>\n",
       "      <td>1</td>\n",
       "      <td>39900</td>\n",
       "      <td>6955000</td>\n",
       "      <td>2</td>\n",
       "      <td>174.310777</td>\n",
       "      <td>1</td>\n",
       "      <td>6</td>\n",
       "      <td>0.0</td>\n",
       "      <td>1</td>\n",
       "      <td>0.0</td>\n",
       "      <td>1</td>\n",
       "    </tr>\n",
       "    <tr>\n",
       "      <th>4</th>\n",
       "      <td>4</td>\n",
       "      <td>4</td>\n",
       "      <td>2019-01-01 06:40:00</td>\n",
       "      <td>20</td>\n",
       "      <td>100346</td>\n",
       "      <td>201072</td>\n",
       "      <td>테이트 남성 셀린니트3종</td>\n",
       "      <td>1</td>\n",
       "      <td>39900</td>\n",
       "      <td>6672000</td>\n",
       "      <td>2</td>\n",
       "      <td>167.218045</td>\n",
       "      <td>1</td>\n",
       "      <td>6</td>\n",
       "      <td>0.0</td>\n",
       "      <td>1</td>\n",
       "      <td>0.0</td>\n",
       "      <td>1</td>\n",
       "    </tr>\n",
       "  </tbody>\n",
       "</table>\n",
       "</div>"
      ],
      "text/plain": [
       "   Unnamed: 0  Unnamed: 0.1                방송일시  노출(분)    마더코드    상품코드  \\\n",
       "0           0             0 2019-01-01 06:00:00     20  100346  201072   \n",
       "1           1             1 2019-01-01 06:00:00     20  100346  201079   \n",
       "2           2             2 2019-01-01 06:20:00     20  100346  201072   \n",
       "3           3             3 2019-01-01 06:20:00     20  100346  201079   \n",
       "4           4             4 2019-01-01 06:40:00     20  100346  201072   \n",
       "\n",
       "             상품명  상품군   판매단가      취급액  요일         주문량  월  시간대  시청률  날짜  \\\n",
       "0  테이트 남성 셀린니트3종    1  39900  2099000   2   52.606516  1    6  0.0   1   \n",
       "1  테이트 여성 셀린니트3종    1  39900  4371000   2  109.548872  1    6  0.0   1   \n",
       "2  테이트 남성 셀린니트3종    1  39900  3262000   2   81.754386  1    6  0.0   1   \n",
       "3  테이트 여성 셀린니트3종    1  39900  6955000   2  174.310777  1    6  0.0   1   \n",
       "4  테이트 남성 셀린니트3종    1  39900  6672000   2  167.218045  1    6  0.0   1   \n",
       "\n",
       "   강수량(mm)  공휴일  \n",
       "0      0.0    1  \n",
       "1      0.0    1  \n",
       "2      0.0    1  \n",
       "3      0.0    1  \n",
       "4      0.0    1  "
      ]
     },
     "execution_count": 3,
     "metadata": {},
     "output_type": "execute_result"
    }
   ],
   "source": [
    "df=pd.read_excel('제공데이터.xlsx', encoding='utf-8')\n",
    "df.head(5)"
   ]
  },
  {
   "cell_type": "code",
   "execution_count": 4,
   "metadata": {},
   "outputs": [],
   "source": [
    "del df['Unnamed: 0']\n",
    "del df['Unnamed: 0.1']\n",
    "\n",
    "df=df.drop(df[df['취급액']==0].index)"
   ]
  },
  {
   "cell_type": "code",
   "execution_count": 5,
   "metadata": {},
   "outputs": [
    {
     "data": {
      "text/html": [
       "<div>\n",
       "<style scoped>\n",
       "    .dataframe tbody tr th:only-of-type {\n",
       "        vertical-align: middle;\n",
       "    }\n",
       "\n",
       "    .dataframe tbody tr th {\n",
       "        vertical-align: top;\n",
       "    }\n",
       "\n",
       "    .dataframe thead th {\n",
       "        text-align: right;\n",
       "    }\n",
       "</style>\n",
       "<table border=\"1\" class=\"dataframe\">\n",
       "  <thead>\n",
       "    <tr style=\"text-align: right;\">\n",
       "      <th></th>\n",
       "      <th>노출(분)</th>\n",
       "      <th>마더코드</th>\n",
       "      <th>상품코드</th>\n",
       "      <th>상품군</th>\n",
       "      <th>판매단가</th>\n",
       "      <th>취급액</th>\n",
       "      <th>요일</th>\n",
       "      <th>주문량</th>\n",
       "      <th>월</th>\n",
       "      <th>시간대</th>\n",
       "      <th>시청률</th>\n",
       "      <th>날짜</th>\n",
       "      <th>강수량(mm)</th>\n",
       "      <th>공휴일</th>\n",
       "    </tr>\n",
       "  </thead>\n",
       "  <tbody>\n",
       "    <tr>\n",
       "      <th>count</th>\n",
       "      <td>35379.000000</td>\n",
       "      <td>35379.000000</td>\n",
       "      <td>35379.000000</td>\n",
       "      <td>35379.000000</td>\n",
       "      <td>3.537900e+04</td>\n",
       "      <td>3.537900e+04</td>\n",
       "      <td>35379.000000</td>\n",
       "      <td>35379.000000</td>\n",
       "      <td>35379.000000</td>\n",
       "      <td>35379.000000</td>\n",
       "      <td>35379.000000</td>\n",
       "      <td>35379.000000</td>\n",
       "      <td>35379.000000</td>\n",
       "      <td>35379.000000</td>\n",
       "    </tr>\n",
       "    <tr>\n",
       "      <th>mean</th>\n",
       "      <td>20.333277</td>\n",
       "      <td>100394.664886</td>\n",
       "      <td>201228.059046</td>\n",
       "      <td>4.922242</td>\n",
       "      <td>3.878590e+05</td>\n",
       "      <td>2.310241e+07</td>\n",
       "      <td>3.994149</td>\n",
       "      <td>314.797301</td>\n",
       "      <td>6.492298</td>\n",
       "      <td>14.110574</td>\n",
       "      <td>0.004567</td>\n",
       "      <td>15.466322</td>\n",
       "      <td>2.404446</td>\n",
       "      <td>0.050595</td>\n",
       "    </tr>\n",
       "    <tr>\n",
       "      <th>std</th>\n",
       "      <td>3.095404</td>\n",
       "      <td>251.968182</td>\n",
       "      <td>739.288622</td>\n",
       "      <td>2.903809</td>\n",
       "      <td>6.264088e+05</td>\n",
       "      <td>2.005790e+07</td>\n",
       "      <td>2.002654</td>\n",
       "      <td>427.826506</td>\n",
       "      <td>3.395820</td>\n",
       "      <td>6.568274</td>\n",
       "      <td>0.008163</td>\n",
       "      <td>8.726040</td>\n",
       "      <td>8.088669</td>\n",
       "      <td>0.219172</td>\n",
       "    </tr>\n",
       "    <tr>\n",
       "      <th>min</th>\n",
       "      <td>2.000000</td>\n",
       "      <td>100000.000000</td>\n",
       "      <td>200000.000000</td>\n",
       "      <td>1.000000</td>\n",
       "      <td>1.280000e+04</td>\n",
       "      <td>1.030000e+05</td>\n",
       "      <td>1.000000</td>\n",
       "      <td>1.302349</td>\n",
       "      <td>1.000000</td>\n",
       "      <td>0.000000</td>\n",
       "      <td>0.000000</td>\n",
       "      <td>1.000000</td>\n",
       "      <td>0.000000</td>\n",
       "      <td>0.000000</td>\n",
       "    </tr>\n",
       "    <tr>\n",
       "      <th>25%</th>\n",
       "      <td>20.000000</td>\n",
       "      <td>100155.000000</td>\n",
       "      <td>200569.000000</td>\n",
       "      <td>3.000000</td>\n",
       "      <td>5.900000e+04</td>\n",
       "      <td>7.998500e+06</td>\n",
       "      <td>2.000000</td>\n",
       "      <td>26.283654</td>\n",
       "      <td>4.000000</td>\n",
       "      <td>9.000000</td>\n",
       "      <td>0.000000</td>\n",
       "      <td>8.000000</td>\n",
       "      <td>0.000000</td>\n",
       "      <td>0.000000</td>\n",
       "    </tr>\n",
       "    <tr>\n",
       "      <th>50%</th>\n",
       "      <td>20.000000</td>\n",
       "      <td>100353.000000</td>\n",
       "      <td>201175.000000</td>\n",
       "      <td>4.000000</td>\n",
       "      <td>9.900000e+04</td>\n",
       "      <td>1.732600e+07</td>\n",
       "      <td>4.000000</td>\n",
       "      <td>130.000000</td>\n",
       "      <td>6.000000</td>\n",
       "      <td>15.000000</td>\n",
       "      <td>0.001350</td>\n",
       "      <td>15.000000</td>\n",
       "      <td>0.000000</td>\n",
       "      <td>0.000000</td>\n",
       "    </tr>\n",
       "    <tr>\n",
       "      <th>75%</th>\n",
       "      <td>20.000000</td>\n",
       "      <td>100604.000000</td>\n",
       "      <td>201879.000000</td>\n",
       "      <td>7.000000</td>\n",
       "      <td>3.990000e+05</td>\n",
       "      <td>3.276300e+07</td>\n",
       "      <td>6.000000</td>\n",
       "      <td>451.719941</td>\n",
       "      <td>9.000000</td>\n",
       "      <td>20.000000</td>\n",
       "      <td>0.005200</td>\n",
       "      <td>23.000000</td>\n",
       "      <td>0.200000</td>\n",
       "      <td>0.000000</td>\n",
       "    </tr>\n",
       "    <tr>\n",
       "      <th>max</th>\n",
       "      <td>40.000000</td>\n",
       "      <td>100849.000000</td>\n",
       "      <td>202513.000000</td>\n",
       "      <td>11.000000</td>\n",
       "      <td>7.930000e+06</td>\n",
       "      <td>3.220090e+08</td>\n",
       "      <td>7.000000</td>\n",
       "      <td>8070.401003</td>\n",
       "      <td>12.000000</td>\n",
       "      <td>23.000000</td>\n",
       "      <td>0.125600</td>\n",
       "      <td>31.000000</td>\n",
       "      <td>63.200000</td>\n",
       "      <td>1.000000</td>\n",
       "    </tr>\n",
       "  </tbody>\n",
       "</table>\n",
       "</div>"
      ],
      "text/plain": [
       "              노출(분)           마더코드           상품코드           상품군          판매단가  \\\n",
       "count  35379.000000   35379.000000   35379.000000  35379.000000  3.537900e+04   \n",
       "mean      20.333277  100394.664886  201228.059046      4.922242  3.878590e+05   \n",
       "std        3.095404     251.968182     739.288622      2.903809  6.264088e+05   \n",
       "min        2.000000  100000.000000  200000.000000      1.000000  1.280000e+04   \n",
       "25%       20.000000  100155.000000  200569.000000      3.000000  5.900000e+04   \n",
       "50%       20.000000  100353.000000  201175.000000      4.000000  9.900000e+04   \n",
       "75%       20.000000  100604.000000  201879.000000      7.000000  3.990000e+05   \n",
       "max       40.000000  100849.000000  202513.000000     11.000000  7.930000e+06   \n",
       "\n",
       "                취급액            요일           주문량             월           시간대  \\\n",
       "count  3.537900e+04  35379.000000  35379.000000  35379.000000  35379.000000   \n",
       "mean   2.310241e+07      3.994149    314.797301      6.492298     14.110574   \n",
       "std    2.005790e+07      2.002654    427.826506      3.395820      6.568274   \n",
       "min    1.030000e+05      1.000000      1.302349      1.000000      0.000000   \n",
       "25%    7.998500e+06      2.000000     26.283654      4.000000      9.000000   \n",
       "50%    1.732600e+07      4.000000    130.000000      6.000000     15.000000   \n",
       "75%    3.276300e+07      6.000000    451.719941      9.000000     20.000000   \n",
       "max    3.220090e+08      7.000000   8070.401003     12.000000     23.000000   \n",
       "\n",
       "                시청률            날짜       강수량(mm)           공휴일  \n",
       "count  35379.000000  35379.000000  35379.000000  35379.000000  \n",
       "mean       0.004567     15.466322      2.404446      0.050595  \n",
       "std        0.008163      8.726040      8.088669      0.219172  \n",
       "min        0.000000      1.000000      0.000000      0.000000  \n",
       "25%        0.000000      8.000000      0.000000      0.000000  \n",
       "50%        0.001350     15.000000      0.000000      0.000000  \n",
       "75%        0.005200     23.000000      0.200000      0.000000  \n",
       "max        0.125600     31.000000     63.200000      1.000000  "
      ]
     },
     "execution_count": 5,
     "metadata": {},
     "output_type": "execute_result"
    }
   ],
   "source": [
    "df.describe()"
   ]
  },
  {
   "cell_type": "code",
   "execution_count": 6,
   "metadata": {},
   "outputs": [
    {
     "data": {
      "text/html": [
       "<div>\n",
       "<style scoped>\n",
       "    .dataframe tbody tr th:only-of-type {\n",
       "        vertical-align: middle;\n",
       "    }\n",
       "\n",
       "    .dataframe tbody tr th {\n",
       "        vertical-align: top;\n",
       "    }\n",
       "\n",
       "    .dataframe thead th {\n",
       "        text-align: right;\n",
       "    }\n",
       "</style>\n",
       "<table border=\"1\" class=\"dataframe\">\n",
       "  <thead>\n",
       "    <tr style=\"text-align: right;\">\n",
       "      <th></th>\n",
       "      <th>방송일시</th>\n",
       "      <th>노출(분)</th>\n",
       "      <th>마더코드</th>\n",
       "      <th>상품코드</th>\n",
       "      <th>상품명</th>\n",
       "      <th>상품군</th>\n",
       "      <th>판매단가</th>\n",
       "      <th>취급액</th>\n",
       "      <th>요일</th>\n",
       "      <th>주문량</th>\n",
       "      <th>월</th>\n",
       "      <th>시간대</th>\n",
       "      <th>시청률</th>\n",
       "      <th>날짜</th>\n",
       "      <th>강수량(mm)</th>\n",
       "      <th>공휴일</th>\n",
       "    </tr>\n",
       "  </thead>\n",
       "  <tbody>\n",
       "    <tr>\n",
       "      <th>0</th>\n",
       "      <td>2019-01-01 06:00:00</td>\n",
       "      <td>20</td>\n",
       "      <td>100346</td>\n",
       "      <td>201072</td>\n",
       "      <td>테이트 남성 셀린니트3종</td>\n",
       "      <td>1</td>\n",
       "      <td>39900</td>\n",
       "      <td>2099000</td>\n",
       "      <td>2</td>\n",
       "      <td>52.606516</td>\n",
       "      <td>1</td>\n",
       "      <td>6</td>\n",
       "      <td>0.0</td>\n",
       "      <td>1</td>\n",
       "      <td>0.0</td>\n",
       "      <td>1</td>\n",
       "    </tr>\n",
       "    <tr>\n",
       "      <th>1</th>\n",
       "      <td>2019-01-01 06:00:00</td>\n",
       "      <td>20</td>\n",
       "      <td>100346</td>\n",
       "      <td>201079</td>\n",
       "      <td>테이트 여성 셀린니트3종</td>\n",
       "      <td>1</td>\n",
       "      <td>39900</td>\n",
       "      <td>4371000</td>\n",
       "      <td>2</td>\n",
       "      <td>109.548872</td>\n",
       "      <td>1</td>\n",
       "      <td>6</td>\n",
       "      <td>0.0</td>\n",
       "      <td>1</td>\n",
       "      <td>0.0</td>\n",
       "      <td>1</td>\n",
       "    </tr>\n",
       "    <tr>\n",
       "      <th>2</th>\n",
       "      <td>2019-01-01 06:20:00</td>\n",
       "      <td>20</td>\n",
       "      <td>100346</td>\n",
       "      <td>201072</td>\n",
       "      <td>테이트 남성 셀린니트3종</td>\n",
       "      <td>1</td>\n",
       "      <td>39900</td>\n",
       "      <td>3262000</td>\n",
       "      <td>2</td>\n",
       "      <td>81.754386</td>\n",
       "      <td>1</td>\n",
       "      <td>6</td>\n",
       "      <td>0.0</td>\n",
       "      <td>1</td>\n",
       "      <td>0.0</td>\n",
       "      <td>1</td>\n",
       "    </tr>\n",
       "    <tr>\n",
       "      <th>3</th>\n",
       "      <td>2019-01-01 06:20:00</td>\n",
       "      <td>20</td>\n",
       "      <td>100346</td>\n",
       "      <td>201079</td>\n",
       "      <td>테이트 여성 셀린니트3종</td>\n",
       "      <td>1</td>\n",
       "      <td>39900</td>\n",
       "      <td>6955000</td>\n",
       "      <td>2</td>\n",
       "      <td>174.310777</td>\n",
       "      <td>1</td>\n",
       "      <td>6</td>\n",
       "      <td>0.0</td>\n",
       "      <td>1</td>\n",
       "      <td>0.0</td>\n",
       "      <td>1</td>\n",
       "    </tr>\n",
       "    <tr>\n",
       "      <th>4</th>\n",
       "      <td>2019-01-01 06:40:00</td>\n",
       "      <td>20</td>\n",
       "      <td>100346</td>\n",
       "      <td>201072</td>\n",
       "      <td>테이트 남성 셀린니트3종</td>\n",
       "      <td>1</td>\n",
       "      <td>39900</td>\n",
       "      <td>6672000</td>\n",
       "      <td>2</td>\n",
       "      <td>167.218045</td>\n",
       "      <td>1</td>\n",
       "      <td>6</td>\n",
       "      <td>0.0</td>\n",
       "      <td>1</td>\n",
       "      <td>0.0</td>\n",
       "      <td>1</td>\n",
       "    </tr>\n",
       "  </tbody>\n",
       "</table>\n",
       "</div>"
      ],
      "text/plain": [
       "                 방송일시  노출(분)    마더코드    상품코드            상품명  상품군   판매단가  \\\n",
       "0 2019-01-01 06:00:00     20  100346  201072  테이트 남성 셀린니트3종    1  39900   \n",
       "1 2019-01-01 06:00:00     20  100346  201079  테이트 여성 셀린니트3종    1  39900   \n",
       "2 2019-01-01 06:20:00     20  100346  201072  테이트 남성 셀린니트3종    1  39900   \n",
       "3 2019-01-01 06:20:00     20  100346  201079  테이트 여성 셀린니트3종    1  39900   \n",
       "4 2019-01-01 06:40:00     20  100346  201072  테이트 남성 셀린니트3종    1  39900   \n",
       "\n",
       "       취급액  요일         주문량  월  시간대  시청률  날짜  강수량(mm)  공휴일  \n",
       "0  2099000   2   52.606516  1    6  0.0   1      0.0    1  \n",
       "1  4371000   2  109.548872  1    6  0.0   1      0.0    1  \n",
       "2  3262000   2   81.754386  1    6  0.0   1      0.0    1  \n",
       "3  6955000   2  174.310777  1    6  0.0   1      0.0    1  \n",
       "4  6672000   2  167.218045  1    6  0.0   1      0.0    1  "
      ]
     },
     "execution_count": 6,
     "metadata": {},
     "output_type": "execute_result"
    }
   ],
   "source": [
    "df.head()"
   ]
  },
  {
   "cell_type": "code",
   "execution_count": 7,
   "metadata": {},
   "outputs": [
    {
     "name": "stdout",
     "output_type": "stream",
     "text": [
      "<class 'pandas.core.frame.DataFrame'>\n",
      "Int64Index: 35379 entries, 0 to 37371\n",
      "Data columns (total 16 columns):\n",
      " #   Column   Non-Null Count  Dtype         \n",
      "---  ------   --------------  -----         \n",
      " 0   방송일시     35379 non-null  datetime64[ns]\n",
      " 1   노출(분)    35379 non-null  int64         \n",
      " 2   마더코드     35379 non-null  int64         \n",
      " 3   상품코드     35379 non-null  int64         \n",
      " 4   상품명      35379 non-null  object        \n",
      " 5   상품군      35379 non-null  int64         \n",
      " 6   판매단가     35379 non-null  int64         \n",
      " 7   취급액      35379 non-null  int64         \n",
      " 8   요일       35379 non-null  int64         \n",
      " 9   주문량      35379 non-null  float64       \n",
      " 10  월        35379 non-null  int64         \n",
      " 11  시간대      35379 non-null  int64         \n",
      " 12  시청률      35379 non-null  float64       \n",
      " 13  날짜       35379 non-null  int64         \n",
      " 14  강수량(mm)  35379 non-null  float64       \n",
      " 15  공휴일      35379 non-null  int64         \n",
      "dtypes: datetime64[ns](1), float64(3), int64(11), object(1)\n",
      "memory usage: 4.6+ MB\n"
     ]
    }
   ],
   "source": [
    "df.info()"
   ]
  },
  {
   "cell_type": "code",
   "execution_count": 8,
   "metadata": {},
   "outputs": [
    {
     "data": {
      "text/html": [
       "<div>\n",
       "<style scoped>\n",
       "    .dataframe tbody tr th:only-of-type {\n",
       "        vertical-align: middle;\n",
       "    }\n",
       "\n",
       "    .dataframe tbody tr th {\n",
       "        vertical-align: top;\n",
       "    }\n",
       "\n",
       "    .dataframe thead th {\n",
       "        text-align: right;\n",
       "    }\n",
       "</style>\n",
       "<table border=\"1\" class=\"dataframe\">\n",
       "  <thead>\n",
       "    <tr style=\"text-align: right;\">\n",
       "      <th></th>\n",
       "      <th>노출(분)</th>\n",
       "      <th>마더코드</th>\n",
       "      <th>상품코드</th>\n",
       "      <th>상품군</th>\n",
       "      <th>판매단가</th>\n",
       "      <th>취급액</th>\n",
       "      <th>요일</th>\n",
       "      <th>주문량</th>\n",
       "      <th>월</th>\n",
       "      <th>시간대</th>\n",
       "      <th>시청률</th>\n",
       "      <th>날짜</th>\n",
       "      <th>강수량(mm)</th>\n",
       "      <th>공휴일</th>\n",
       "    </tr>\n",
       "  </thead>\n",
       "  <tbody>\n",
       "    <tr>\n",
       "      <th>노출(분)</th>\n",
       "      <td>1.000000</td>\n",
       "      <td>0.089634</td>\n",
       "      <td>0.081250</td>\n",
       "      <td>0.102310</td>\n",
       "      <td>0.135079</td>\n",
       "      <td>0.047076</td>\n",
       "      <td>-0.006831</td>\n",
       "      <td>-0.054823</td>\n",
       "      <td>-0.043476</td>\n",
       "      <td>-0.001537</td>\n",
       "      <td>0.020853</td>\n",
       "      <td>-0.009716</td>\n",
       "      <td>0.025915</td>\n",
       "      <td>-0.001857</td>\n",
       "    </tr>\n",
       "    <tr>\n",
       "      <th>마더코드</th>\n",
       "      <td>0.089634</td>\n",
       "      <td>1.000000</td>\n",
       "      <td>0.977926</td>\n",
       "      <td>-0.161438</td>\n",
       "      <td>-0.205652</td>\n",
       "      <td>-0.054361</td>\n",
       "      <td>-0.034271</td>\n",
       "      <td>-0.002435</td>\n",
       "      <td>-0.085851</td>\n",
       "      <td>-0.099454</td>\n",
       "      <td>-0.024299</td>\n",
       "      <td>0.017083</td>\n",
       "      <td>-0.012912</td>\n",
       "      <td>-0.038741</td>\n",
       "    </tr>\n",
       "    <tr>\n",
       "      <th>상품코드</th>\n",
       "      <td>0.081250</td>\n",
       "      <td>0.977926</td>\n",
       "      <td>1.000000</td>\n",
       "      <td>-0.178119</td>\n",
       "      <td>-0.217107</td>\n",
       "      <td>-0.041807</td>\n",
       "      <td>-0.034529</td>\n",
       "      <td>0.007827</td>\n",
       "      <td>-0.102004</td>\n",
       "      <td>-0.101219</td>\n",
       "      <td>-0.026998</td>\n",
       "      <td>0.012451</td>\n",
       "      <td>-0.017728</td>\n",
       "      <td>-0.036535</td>\n",
       "    </tr>\n",
       "    <tr>\n",
       "      <th>상품군</th>\n",
       "      <td>0.102310</td>\n",
       "      <td>-0.161438</td>\n",
       "      <td>-0.178119</td>\n",
       "      <td>1.000000</td>\n",
       "      <td>0.301653</td>\n",
       "      <td>-0.188544</td>\n",
       "      <td>-0.011068</td>\n",
       "      <td>-0.223612</td>\n",
       "      <td>0.107917</td>\n",
       "      <td>0.129404</td>\n",
       "      <td>0.017492</td>\n",
       "      <td>-0.033127</td>\n",
       "      <td>0.033942</td>\n",
       "      <td>0.015953</td>\n",
       "    </tr>\n",
       "    <tr>\n",
       "      <th>판매단가</th>\n",
       "      <td>0.135079</td>\n",
       "      <td>-0.205652</td>\n",
       "      <td>-0.217107</td>\n",
       "      <td>0.301653</td>\n",
       "      <td>1.000000</td>\n",
       "      <td>-0.161539</td>\n",
       "      <td>0.064539</td>\n",
       "      <td>-0.369401</td>\n",
       "      <td>-0.044226</td>\n",
       "      <td>0.332901</td>\n",
       "      <td>-0.013635</td>\n",
       "      <td>-0.063044</td>\n",
       "      <td>0.011930</td>\n",
       "      <td>0.045115</td>\n",
       "    </tr>\n",
       "  </tbody>\n",
       "</table>\n",
       "</div>"
      ],
      "text/plain": [
       "          노출(분)      마더코드      상품코드       상품군      판매단가       취급액        요일  \\\n",
       "노출(분)  1.000000  0.089634  0.081250  0.102310  0.135079  0.047076 -0.006831   \n",
       "마더코드   0.089634  1.000000  0.977926 -0.161438 -0.205652 -0.054361 -0.034271   \n",
       "상품코드   0.081250  0.977926  1.000000 -0.178119 -0.217107 -0.041807 -0.034529   \n",
       "상품군    0.102310 -0.161438 -0.178119  1.000000  0.301653 -0.188544 -0.011068   \n",
       "판매단가   0.135079 -0.205652 -0.217107  0.301653  1.000000 -0.161539  0.064539   \n",
       "\n",
       "            주문량         월       시간대       시청률        날짜   강수량(mm)       공휴일  \n",
       "노출(분) -0.054823 -0.043476 -0.001537  0.020853 -0.009716  0.025915 -0.001857  \n",
       "마더코드  -0.002435 -0.085851 -0.099454 -0.024299  0.017083 -0.012912 -0.038741  \n",
       "상품코드   0.007827 -0.102004 -0.101219 -0.026998  0.012451 -0.017728 -0.036535  \n",
       "상품군   -0.223612  0.107917  0.129404  0.017492 -0.033127  0.033942  0.015953  \n",
       "판매단가  -0.369401 -0.044226  0.332901 -0.013635 -0.063044  0.011930  0.045115  "
      ]
     },
     "execution_count": 8,
     "metadata": {},
     "output_type": "execute_result"
    }
   ],
   "source": [
    "df_cor=df.corr()\n",
    "df_cor.head(5)"
   ]
  },
  {
   "cell_type": "code",
   "execution_count": 43,
   "metadata": {},
   "outputs": [],
   "source": [
    "#수치형 데이터만\n",
    "x=df.iloc[:, [1, 2, 3, 5, 6, 7, 8, 9, 11, 12, 13, 14]]\n",
    "y=df.iloc[:, [10]]"
   ]
  },
  {
   "cell_type": "code",
   "execution_count": 44,
   "metadata": {},
   "outputs": [],
   "source": [
    "#훈련용, 학습용 데이터 나누기\n",
    "from sklearn.model_selection import train_test_split\n",
    "x_train,x_test,y_train,y_test=train_test_split(x,y,test_size=0.2, random_state=42)"
   ]
  },
  {
   "cell_type": "markdown",
   "metadata": {},
   "source": [
    "랜덤포레스트"
   ]
  },
  {
   "cell_type": "code",
   "execution_count": 45,
   "metadata": {},
   "outputs": [
    {
     "name": "stderr",
     "output_type": "stream",
     "text": [
      "C:\\Users\\user\\Anaconda3\\lib\\site-packages\\ipykernel_launcher.py:5: DataConversionWarning: A column-vector y was passed when a 1d array was expected. Please change the shape of y to (n_samples,), for example using ravel().\n",
      "  \"\"\"\n"
     ]
    },
    {
     "data": {
      "text/plain": [
       "0.929479932165065"
      ]
     },
     "execution_count": 45,
     "metadata": {},
     "output_type": "execute_result"
    }
   ],
   "source": [
    "from sklearn.ensemble import RandomForestClassifier\n",
    "from sklearn.metrics import accuracy_score\n",
    "\n",
    "fr=RandomForestClassifier()\n",
    "fr.fit(x_train, y_train)\n",
    "\n",
    "fr_pred=fr.predict(x_test)\n",
    "accuracy_score(y_test, fr_pred)"
   ]
  },
  {
   "cell_type": "code",
   "execution_count": 12,
   "metadata": {},
   "outputs": [
    {
     "data": {
      "text/plain": [
       "<matplotlib.axes._subplots.AxesSubplot at 0x1be9a99e588>"
      ]
     },
     "execution_count": 12,
     "metadata": {},
     "output_type": "execute_result"
    },
    {
     "data": {
      "image/png": "[encoded data removed]",
      "text/plain": [
       "<Figure size 432x288 with 2 Axes>"
      ]
     },
     "metadata": {
      "needs_background": "light"
     },
     "output_type": "display_data"
    }
   ],
   "source": [
    "from sklearn.metrics import confusion_matrix\n",
    "\n",
    "vi=pd.DataFrame(confusion_matrix(y_test, fr_pred))\n",
    "sns.heatmap(vi, annot=True)"
   ]
  },
  {
   "cell_type": "code",
   "execution_count": 13,
   "metadata": {},
   "outputs": [
    {
     "data": {
      "text/plain": [
       "'              precision    recall  f1-score   support\\n\\n           1       0.95      0.90      0.92       580\\n           2       0.90      0.93      0.92       547\\n           3       0.95      0.93      0.94       635\\n           4       0.93      0.94      0.94       571\\n           5       0.95      0.94      0.95       704\\n           6       0.94      0.95      0.95       553\\n           7       0.92      0.95      0.93       595\\n           8       0.94      0.92      0.93       571\\n           9       0.93      0.94      0.93       585\\n          10       0.94      0.92      0.93       593\\n          11       0.93      0.95      0.94       557\\n          12       0.94      0.96      0.95       585\\n\\n    accuracy                           0.94      7076\\n   macro avg       0.94      0.94      0.94      7076\\nweighted avg       0.94      0.94      0.94      7076\\n'"
      ]
     },
     "execution_count": 13,
     "metadata": {},
     "output_type": "execute_result"
    }
   ],
   "source": [
    "from sklearn.metrics import classification_report\n",
    "classification_report(fr_pred, y_test)"
   ]
  },
  {
   "cell_type": "code",
   "execution_count": 53,
   "metadata": {},
   "outputs": [
    {
     "data": {
      "text/plain": [
       "array([ 9,  4,  3, ...,  7, 11, 11], dtype=int64)"
      ]
     },
     "execution_count": 53,
     "metadata": {},
     "output_type": "execute_result"
    }
   ],
   "source": [
    "fr_pred"
   ]
  },
  {
   "cell_type": "code",
   "execution_count": 15,
   "metadata": {},
   "outputs": [
    {
     "data": {
      "text/html": [
       "<div>\n",
       "<style scoped>\n",
       "    .dataframe tbody tr th:only-of-type {\n",
       "        vertical-align: middle;\n",
       "    }\n",
       "\n",
       "    .dataframe tbody tr th {\n",
       "        vertical-align: top;\n",
       "    }\n",
       "\n",
       "    .dataframe thead th {\n",
       "        text-align: right;\n",
       "    }\n",
       "</style>\n",
       "<table border=\"1\" class=\"dataframe\">\n",
       "  <thead>\n",
       "    <tr style=\"text-align: right;\">\n",
       "      <th></th>\n",
       "      <th>월</th>\n",
       "    </tr>\n",
       "  </thead>\n",
       "  <tbody>\n",
       "    <tr>\n",
       "      <th>36022</th>\n",
       "      <td>12</td>\n",
       "    </tr>\n",
       "    <tr>\n",
       "      <th>10571</th>\n",
       "      <td>4</td>\n",
       "    </tr>\n",
       "    <tr>\n",
       "      <th>6790</th>\n",
       "      <td>3</td>\n",
       "    </tr>\n",
       "    <tr>\n",
       "      <th>206</th>\n",
       "      <td>1</td>\n",
       "    </tr>\n",
       "    <tr>\n",
       "      <th>14129</th>\n",
       "      <td>5</td>\n",
       "    </tr>\n",
       "    <tr>\n",
       "      <th>...</th>\n",
       "      <td>...</td>\n",
       "    </tr>\n",
       "    <tr>\n",
       "      <th>19437</th>\n",
       "      <td>7</td>\n",
       "    </tr>\n",
       "    <tr>\n",
       "      <th>3883</th>\n",
       "      <td>2</td>\n",
       "    </tr>\n",
       "    <tr>\n",
       "      <th>21275</th>\n",
       "      <td>7</td>\n",
       "    </tr>\n",
       "    <tr>\n",
       "      <th>31639</th>\n",
       "      <td>11</td>\n",
       "    </tr>\n",
       "    <tr>\n",
       "      <th>34323</th>\n",
       "      <td>11</td>\n",
       "    </tr>\n",
       "  </tbody>\n",
       "</table>\n",
       "<p>7076 rows × 1 columns</p>\n",
       "</div>"
      ],
      "text/plain": [
       "        월\n",
       "36022  12\n",
       "10571   4\n",
       "6790    3\n",
       "206     1\n",
       "14129   5\n",
       "...    ..\n",
       "19437   7\n",
       "3883    2\n",
       "21275   7\n",
       "31639  11\n",
       "34323  11\n",
       "\n",
       "[7076 rows x 1 columns]"
      ]
     },
     "execution_count": 15,
     "metadata": {},
     "output_type": "execute_result"
    }
   ],
   "source": [
    "y_test"
   ]
  },
  {
   "cell_type": "markdown",
   "metadata": {},
   "source": [
    "k-NN"
   ]
  },
  {
   "cell_type": "code",
   "execution_count": 16,
   "metadata": {},
   "outputs": [
    {
     "name": "stderr",
     "output_type": "stream",
     "text": [
      "C:\\Users\\user\\Anaconda3\\lib\\site-packages\\ipykernel_launcher.py:4: DataConversionWarning: A column-vector y was passed when a 1d array was expected. Please change the shape of y to (n_samples, ), for example using ravel().\n",
      "  after removing the cwd from sys.path.\n"
     ]
    },
    {
     "data": {
      "text/plain": [
       "0.25381571509327305"
      ]
     },
     "execution_count": 16,
     "metadata": {},
     "output_type": "execute_result"
    }
   ],
   "source": [
    "from sklearn.neighbors import KNeighborsClassifier\n",
    "\n",
    "knn=KNeighborsClassifier(n_neighbors=1)\n",
    "knn.fit(x_train, y_train)\n",
    "\n",
    "knn_pred=knn.predict(x_test)\n",
    "accuracy_score(y_test, knn_pred)"
   ]
  },
  {
   "cell_type": "markdown",
   "metadata": {},
   "source": [
    "의사결정 나무"
   ]
  },
  {
   "cell_type": "code",
   "execution_count": 17,
   "metadata": {},
   "outputs": [
    {
     "data": {
      "text/plain": [
       "0.9460146975692482"
      ]
     },
     "execution_count": 17,
     "metadata": {},
     "output_type": "execute_result"
    }
   ],
   "source": [
    "from sklearn.tree import DecisionTreeClassifier\n",
    "\n",
    "dt=DecisionTreeClassifier()\n",
    "dt.fit(x_train, y_train)\n",
    "\n",
    "dt_pred=dt.predict(x_test)\n",
    "accuracy_score(y_test, dt_pred)"
   ]
  },
  {
   "cell_type": "code",
   "execution_count": 18,
   "metadata": {},
   "outputs": [
    {
     "data": {
      "text/plain": [
       "array([ 9,  4,  3, ...,  7, 11, 11], dtype=int64)"
      ]
     },
     "execution_count": 18,
     "metadata": {},
     "output_type": "execute_result"
    }
   ],
   "source": [
    "dt_pred"
   ]
  },
  {
   "cell_type": "code",
   "execution_count": 19,
   "metadata": {},
   "outputs": [
    {
     "data": {
      "text/html": [
       "<div>\n",
       "<style scoped>\n",
       "    .dataframe tbody tr th:only-of-type {\n",
       "        vertical-align: middle;\n",
       "    }\n",
       "\n",
       "    .dataframe tbody tr th {\n",
       "        vertical-align: top;\n",
       "    }\n",
       "\n",
       "    .dataframe thead th {\n",
       "        text-align: right;\n",
       "    }\n",
       "</style>\n",
       "<table border=\"1\" class=\"dataframe\">\n",
       "  <thead>\n",
       "    <tr style=\"text-align: right;\">\n",
       "      <th></th>\n",
       "      <th>월</th>\n",
       "    </tr>\n",
       "  </thead>\n",
       "  <tbody>\n",
       "    <tr>\n",
       "      <th>36022</th>\n",
       "      <td>12</td>\n",
       "    </tr>\n",
       "    <tr>\n",
       "      <th>10571</th>\n",
       "      <td>4</td>\n",
       "    </tr>\n",
       "    <tr>\n",
       "      <th>6790</th>\n",
       "      <td>3</td>\n",
       "    </tr>\n",
       "    <tr>\n",
       "      <th>206</th>\n",
       "      <td>1</td>\n",
       "    </tr>\n",
       "    <tr>\n",
       "      <th>14129</th>\n",
       "      <td>5</td>\n",
       "    </tr>\n",
       "    <tr>\n",
       "      <th>...</th>\n",
       "      <td>...</td>\n",
       "    </tr>\n",
       "    <tr>\n",
       "      <th>19437</th>\n",
       "      <td>7</td>\n",
       "    </tr>\n",
       "    <tr>\n",
       "      <th>3883</th>\n",
       "      <td>2</td>\n",
       "    </tr>\n",
       "    <tr>\n",
       "      <th>21275</th>\n",
       "      <td>7</td>\n",
       "    </tr>\n",
       "    <tr>\n",
       "      <th>31639</th>\n",
       "      <td>11</td>\n",
       "    </tr>\n",
       "    <tr>\n",
       "      <th>34323</th>\n",
       "      <td>11</td>\n",
       "    </tr>\n",
       "  </tbody>\n",
       "</table>\n",
       "<p>7076 rows × 1 columns</p>\n",
       "</div>"
      ],
      "text/plain": [
       "        월\n",
       "36022  12\n",
       "10571   4\n",
       "6790    3\n",
       "206     1\n",
       "14129   5\n",
       "...    ..\n",
       "19437   7\n",
       "3883    2\n",
       "21275   7\n",
       "31639  11\n",
       "34323  11\n",
       "\n",
       "[7076 rows x 1 columns]"
      ]
     },
     "execution_count": 19,
     "metadata": {},
     "output_type": "execute_result"
    }
   ],
   "source": [
    "y_test"
   ]
  },
  {
   "cell_type": "markdown",
   "metadata": {},
   "source": [
    "AdaBoost"
   ]
  },
  {
   "cell_type": "code",
   "execution_count": 20,
   "metadata": {},
   "outputs": [
    {
     "name": "stderr",
     "output_type": "stream",
     "text": [
      "C:\\Users\\user\\Anaconda3\\lib\\site-packages\\sklearn\\utils\\validation.py:760: DataConversionWarning: A column-vector y was passed when a 1d array was expected. Please change the shape of y to (n_samples, ), for example using ravel().\n",
      "  y = column_or_1d(y, warn=True)\n"
     ]
    },
    {
     "data": {
      "text/plain": [
       "0.15842283776144714"
      ]
     },
     "execution_count": 20,
     "metadata": {},
     "output_type": "execute_result"
    }
   ],
   "source": [
    "from sklearn.ensemble import AdaBoostClassifier\n",
    "\n",
    "ab=AdaBoostClassifier()\n",
    "ab.fit(x_train, y_train)\n",
    "\n",
    "ab_pred=ab.predict(x_test)\n",
    "accuracy_score(y_test, ab_pred)"
   ]
  },
  {
   "cell_type": "markdown",
   "metadata": {},
   "source": [
    "XGBoost"
   ]
  },
  {
   "cell_type": "code",
   "execution_count": 21,
   "metadata": {},
   "outputs": [
    {
     "name": "stderr",
     "output_type": "stream",
     "text": [
      "C:\\Users\\user\\Anaconda3\\lib\\site-packages\\sklearn\\ensemble\\_gb.py:1454: DataConversionWarning: A column-vector y was passed when a 1d array was expected. Please change the shape of y to (n_samples, ), for example using ravel().\n",
      "  y = column_or_1d(y, warn=True)\n"
     ]
    },
    {
     "data": {
      "text/plain": [
       "0.6129169022046353"
      ]
     },
     "execution_count": 21,
     "metadata": {},
     "output_type": "execute_result"
    }
   ],
   "source": [
    "from sklearn.ensemble import GradientBoostingClassifier\n",
    "\n",
    "gb=GradientBoostingClassifier()\n",
    "gb.fit(x_train, y_train)\n",
    "\n",
    "gb_pred=gb.predict(x_test)\n",
    "accuracy_score(y_test, gb_pred)"
   ]
  },
  {
   "cell_type": "markdown",
   "metadata": {},
   "source": [
    "나이브베이즈"
   ]
  },
  {
   "cell_type": "code",
   "execution_count": 22,
   "metadata": {},
   "outputs": [
    {
     "name": "stderr",
     "output_type": "stream",
     "text": [
      "C:\\Users\\user\\Anaconda3\\lib\\site-packages\\sklearn\\naive_bayes.py:206: DataConversionWarning: A column-vector y was passed when a 1d array was expected. Please change the shape of y to (n_samples, ), for example using ravel().\n",
      "  y = column_or_1d(y, warn=True)\n"
     ]
    },
    {
     "data": {
      "text/plain": [
       "0.12450537026568682"
      ]
     },
     "execution_count": 22,
     "metadata": {},
     "output_type": "execute_result"
    }
   ],
   "source": [
    "from sklearn.naive_bayes import GaussianNB\n",
    "\n",
    "nb=GaussianNB()\n",
    "nb.fit(x_train, y_train)\n",
    "\n",
    "nb_pred=nb.predict(x_test)\n",
    "accuracy_score(y_test, nb_pred)"
   ]
  },
  {
   "cell_type": "markdown",
   "metadata": {},
   "source": [
    "선형판별분석"
   ]
  },
  {
   "cell_type": "code",
   "execution_count": 23,
   "metadata": {},
   "outputs": [
    {
     "name": "stderr",
     "output_type": "stream",
     "text": [
      "C:\\Users\\user\\Anaconda3\\lib\\site-packages\\sklearn\\utils\\validation.py:760: DataConversionWarning: A column-vector y was passed when a 1d array was expected. Please change the shape of y to (n_samples, ), for example using ravel().\n",
      "  y = column_or_1d(y, warn=True)\n"
     ]
    },
    {
     "data": {
      "text/plain": [
       "0.15319389485585078"
      ]
     },
     "execution_count": 23,
     "metadata": {},
     "output_type": "execute_result"
    }
   ],
   "source": [
    "from sklearn.discriminant_analysis import LinearDiscriminantAnalysis\n",
    "\n",
    "ld=LinearDiscriminantAnalysis()\n",
    "ld.fit(x_train, y_train)\n",
    "\n",
    "ld_pred=ld.predict(x_test)\n",
    "accuracy_score(y_test, ld_pred)"
   ]
  },
  {
   "cell_type": "markdown",
   "metadata": {},
   "source": [
    "이차판별분석"
   ]
  },
  {
   "cell_type": "code",
   "execution_count": 24,
   "metadata": {},
   "outputs": [
    {
     "name": "stderr",
     "output_type": "stream",
     "text": [
      "C:\\Users\\user\\Anaconda3\\lib\\site-packages\\sklearn\\utils\\validation.py:760: DataConversionWarning: A column-vector y was passed when a 1d array was expected. Please change the shape of y to (n_samples, ), for example using ravel().\n",
      "  y = column_or_1d(y, warn=True)\n"
     ]
    },
    {
     "data": {
      "text/plain": [
       "0.1541831543244771"
      ]
     },
     "execution_count": 24,
     "metadata": {},
     "output_type": "execute_result"
    }
   ],
   "source": [
    "from sklearn.discriminant_analysis import QuadraticDiscriminantAnalysis\n",
    "\n",
    "qd=QuadraticDiscriminantAnalysis()\n",
    "qd.fit(x_train, y_train)\n",
    "\n",
    "qd_pred=qd.predict(x_test)\n",
    "accuracy_score(y_test, qd_pred)"
   ]
  },
  {
   "cell_type": "markdown",
   "metadata": {},
   "source": [
    "로지스틱 회귀"
   ]
  },
  {
   "cell_type": "code",
   "execution_count": 25,
   "metadata": {},
   "outputs": [
    {
     "name": "stderr",
     "output_type": "stream",
     "text": [
      "C:\\Users\\user\\Anaconda3\\lib\\site-packages\\sklearn\\utils\\validation.py:760: DataConversionWarning: A column-vector y was passed when a 1d array was expected. Please change the shape of y to (n_samples, ), for example using ravel().\n",
      "  y = column_or_1d(y, warn=True)\n",
      "C:\\Users\\user\\Anaconda3\\lib\\site-packages\\sklearn\\linear_model\\_logistic.py:940: ConvergenceWarning: lbfgs failed to converge (status=1):\n",
      "STOP: TOTAL NO. of ITERATIONS REACHED LIMIT.\n",
      "\n",
      "Increase the number of iterations (max_iter) or scale the data as shown in:\n",
      "    https://scikit-learn.org/stable/modules/preprocessing.html\n",
      "Please also refer to the documentation for alternative solver options:\n",
      "    https://scikit-learn.org/stable/modules/linear_model.html#logistic-regression\n",
      "  extra_warning_msg=_LOGISTIC_SOLVER_CONVERGENCE_MSG)\n"
     ]
    },
    {
     "data": {
      "text/plain": [
       "0.10698134539287733"
      ]
     },
     "execution_count": 25,
     "metadata": {},
     "output_type": "execute_result"
    }
   ],
   "source": [
    "from sklearn.linear_model import LogisticRegression\n",
    "\n",
    "lr=LogisticRegression()\n",
    "lr.fit(x_train, y_train)\n",
    "\n",
    "lr_pred=lr.predict(x_test)\n",
    "accuracy_score(y_test, lr_pred)"
   ]
  },
  {
   "cell_type": "code",
   "execution_count": 27,
   "metadata": {
    "scrolled": true
   },
   "outputs": [
    {
     "data": {
      "text/plain": [
       "<matplotlib.axes._subplots.AxesSubplot at 0x1beaeb48908>"
      ]
     },
     "execution_count": 27,
     "metadata": {},
     "output_type": "execute_result"
    },
    {
     "data": {
      "image/png": "[encoded data removed]",
      "text/plain": [
       "<Figure size 432x288 with 1 Axes>"
      ]
     },
     "metadata": {
      "needs_background": "light"
     },
     "output_type": "display_data"
    }
   ],
   "source": [
    "data={'Classifier':['RandomForestClassifier', 'KNeighborsClassifier', 'DecisionTreeClassifier', 'AdaBoostClassifier', 'GradientBoostingClassifier', 'GaussianNB', 'LinearDiscriminantAnalysis', 'QuadraticDiscriminantAnalysis', 'LogisticRegression'], \n",
    "      'Accuracy':[accuracy_score(y_test, fr_pred), accuracy_score(y_test, knn_pred), accuracy_score(y_test, dt_pred), accuracy_score(y_test, ab_pred), accuracy_score(y_test, gb_pred), accuracy_score(y_test, nb_pred), accuracy_score(y_test, ld_pred), accuracy_score(y_test, qd_pred), accuracy_score(y_test, lr_pred)]}\n",
    "lol=pd.DataFrame(data)\n",
    "plt.xlabel('Accuracy')\n",
    "plt.title('Classifier Accuracy')\n",
    "\n",
    "sns.set_color_codes(\"muted\")\n",
    "sns.barplot(x='Accuracy', y='Classifier', data=lol)"
   ]
  }
 ],
 "metadata": {
  "kernelspec": {
   "display_name": "Python 3",
   "language": "python",
   "name": "python3"
  },
  "language_info": {
   "codemirror_mode": {
    "name": "ipython",
    "version": 3
   },
   "file_extension": ".py",
   "mimetype": "text/x-python",
   "name": "python",
   "nbconvert_exporter": "python",
   "pygments_lexer": "ipython3",
   "version": "3.7.6"
  }
 },
 "nbformat": 4,
 "nbformat_minor": 4
}
